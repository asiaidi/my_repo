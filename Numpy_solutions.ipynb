{
  "nbformat": 4,
  "nbformat_minor": 0,
  "metadata": {
    "colab": {
      "provenance": []
    },
    "kernelspec": {
      "name": "python3",
      "display_name": "Python 3"
    },
    "language_info": {
      "name": "python"
    }
  },
  "cells": [
    {
      "cell_type": "code",
      "execution_count": null,
      "metadata": {
        "colab": {
          "base_uri": "https://localhost:8080/"
        },
        "id": "6pA5PEj09gX7",
        "outputId": "9ff20417-b754-4b40-ebf0-b1eecdbc3a2c"
      },
      "outputs": [
        {
          "output_type": "stream",
          "name": "stdout",
          "text": [
            "[0. 0. 0. 0. 0. 0. 0. 0. 0. 0.]\n"
          ]
        }
      ],
      "source": [
        "#a.\tИмпортируйте библиотеку NumPy\n",
        "#b.\tСоздайте массив из 10 нулей\n",
        "import numpy as np\n",
        "b=np.zeros(10)\n",
        "print(b)"
      ]
    },
    {
      "cell_type": "code",
      "source": [
        "#c.\tСоздать массив из 10 единиц\n",
        "c=np.ones(10)\n",
        "print(c)"
      ],
      "metadata": {
        "colab": {
          "base_uri": "https://localhost:8080/"
        },
        "id": "q5HLWd6JMSZ_",
        "outputId": "5891ea3b-0a63-40b9-ebfc-296553d18049"
      },
      "execution_count": null,
      "outputs": [
        {
          "output_type": "stream",
          "name": "stdout",
          "text": [
            "[1. 1. 1. 1. 1. 1. 1. 1. 1. 1.]\n"
          ]
        }
      ]
    },
    {
      "cell_type": "code",
      "source": [
        "#d.\tСоздать массив из 10 пятерок\n",
        "d=c+4\n",
        "print(d)\n"
      ],
      "metadata": {
        "colab": {
          "base_uri": "https://localhost:8080/"
        },
        "id": "gnOMODHuMhS6",
        "outputId": "3bfd79ad-d51c-4cf9-c208-51b3fcb710c2"
      },
      "execution_count": null,
      "outputs": [
        {
          "output_type": "stream",
          "name": "stdout",
          "text": [
            "[5. 5. 5. 5. 5. 5. 5. 5. 5. 5.]\n"
          ]
        }
      ]
    },
    {
      "cell_type": "code",
      "source": [
        "#e.\tСоздать массив из целых чисел от 10 до 50\n",
        "e=np.arange(10,51)\n",
        "print(e)"
      ],
      "metadata": {
        "colab": {
          "base_uri": "https://localhost:8080/"
        },
        "id": "glwqPBNMM1ih",
        "outputId": "b2441707-3414-4fe0-f38f-ce70bc2c8734"
      },
      "execution_count": null,
      "outputs": [
        {
          "output_type": "stream",
          "name": "stdout",
          "text": [
            "[10 11 12 13 14 15 16 17 18 19 20 21 22 23 24 25 26 27 28 29 30 31 32 33\n",
            " 34 35 36 37 38 39 40 41 42 43 44 45 46 47 48 49 50]\n"
          ]
        }
      ]
    },
    {
      "cell_type": "code",
      "source": [
        "#f.\tСоздать массив из четных чисел от 10 до 50\n",
        "f=np.arange(10,51,2)\n",
        "print(f)"
      ],
      "metadata": {
        "colab": {
          "base_uri": "https://localhost:8080/"
        },
        "id": "s8A6XDKJNelS",
        "outputId": "bf2a3bcf-cbe3-441c-d56d-8d5d3496e812"
      },
      "execution_count": null,
      "outputs": [
        {
          "output_type": "stream",
          "name": "stdout",
          "text": [
            "[10 12 14 16 18 20 22 24 26 28 30 32 34 36 38 40 42 44 46 48 50]\n"
          ]
        }
      ]
    },
    {
      "cell_type": "code",
      "source": [
        "#g.\tСоздать матрицу 3х3 с числами от 0 до 8\n",
        "g=np.arange(0,9).reshape(3,3)\n",
        "print(g)"
      ],
      "metadata": {
        "colab": {
          "base_uri": "https://localhost:8080/"
        },
        "id": "e0HgpKEmNgpR",
        "outputId": "fc1d03e3-d616-4cc1-fb74-2b530cd1b018"
      },
      "execution_count": null,
      "outputs": [
        {
          "output_type": "stream",
          "name": "stdout",
          "text": [
            "[[0 1 2]\n",
            " [3 4 5]\n",
            " [6 7 8]]\n"
          ]
        }
      ]
    },
    {
      "cell_type": "code",
      "source": [
        "#h.\tСоздать единичную матрицу 3x3\n",
        "h=np.eye(3)\n",
        "print(h)"
      ],
      "metadata": {
        "colab": {
          "base_uri": "https://localhost:8080/"
        },
        "id": "jVI1LGd6NWQM",
        "outputId": "74fe4e1f-b6a4-4be3-8085-39adc940fb8d"
      },
      "execution_count": null,
      "outputs": [
        {
          "output_type": "stream",
          "name": "stdout",
          "text": [
            "[[1. 0. 0.]\n",
            " [0. 1. 0.]\n",
            " [0. 0. 1.]]\n"
          ]
        }
      ]
    },
    {
      "cell_type": "code",
      "source": [
        "#i.\tИспользуйте NumPy для генерации случайного числа от 0 до 1\n",
        "i=np.random.rand()\n",
        "print(i)"
      ],
      "metadata": {
        "colab": {
          "base_uri": "https://localhost:8080/"
        },
        "id": "2rspXhGAOLNs",
        "outputId": "e4ffda65-554d-43ae-cc5d-16b7de5b990c"
      },
      "execution_count": null,
      "outputs": [
        {
          "output_type": "stream",
          "name": "stdout",
          "text": [
            "0.626932244886385\n"
          ]
        }
      ]
    },
    {
      "cell_type": "code",
      "source": [
        "#j. Используйте NumPy для генерации массива из 25 случайных чисел,взятых\n",
        "# из стандартного нормального распределения\n",
        "j=np.random.randn(25)\n",
        "print(j)"
      ],
      "metadata": {
        "colab": {
          "base_uri": "https://localhost:8080/"
        },
        "id": "RMRGhdDrOLtL",
        "outputId": "1afe64d5-3c31-4929-c7df-3b1032529b23"
      },
      "execution_count": null,
      "outputs": [
        {
          "output_type": "stream",
          "name": "stdout",
          "text": [
            "[-0.6222149  -0.04981199  0.93443978  0.07635224  0.73336554  0.81946994\n",
            " -1.14336271  0.49383551  0.23402034 -0.13419395  1.70830593  0.70867847\n",
            "  0.36857573 -0.124487    0.3927305  -0.13377028  0.1809406  -0.18182614\n",
            " -1.32629383 -0.35215149 -0.63170493 -0.5758761  -0.81988227  0.85983269\n",
            " -0.8383386 ]\n"
          ]
        }
      ]
    },
    {
      "cell_type": "code",
      "source": [
        "#k.Создайте следующую матрицу используя функции библиотеки NumPy:\n",
        "\n",
        "k=np.linspace(0.01,1,100).reshape(10,10).round(2)\n",
        "print(k)\n"
      ],
      "metadata": {
        "colab": {
          "base_uri": "https://localhost:8080/"
        },
        "id": "o7CK5cfNOafa",
        "outputId": "fb129eb6-fbd2-49a1-9b33-6d575924f709"
      },
      "execution_count": null,
      "outputs": [
        {
          "output_type": "stream",
          "name": "stdout",
          "text": [
            "[[0.01 0.02 0.03 0.04 0.05 0.06 0.07 0.08 0.09 0.1 ]\n",
            " [0.11 0.12 0.13 0.14 0.15 0.16 0.17 0.18 0.19 0.2 ]\n",
            " [0.21 0.22 0.23 0.24 0.25 0.26 0.27 0.28 0.29 0.3 ]\n",
            " [0.31 0.32 0.33 0.34 0.35 0.36 0.37 0.38 0.39 0.4 ]\n",
            " [0.41 0.42 0.43 0.44 0.45 0.46 0.47 0.48 0.49 0.5 ]\n",
            " [0.51 0.52 0.53 0.54 0.55 0.56 0.57 0.58 0.59 0.6 ]\n",
            " [0.61 0.62 0.63 0.64 0.65 0.66 0.67 0.68 0.69 0.7 ]\n",
            " [0.71 0.72 0.73 0.74 0.75 0.76 0.77 0.78 0.79 0.8 ]\n",
            " [0.81 0.82 0.83 0.84 0.85 0.86 0.87 0.88 0.89 0.9 ]\n",
            " [0.91 0.92 0.93 0.94 0.95 0.96 0.97 0.98 0.99 1.  ]]\n"
          ]
        }
      ]
    },
    {
      "cell_type": "code",
      "source": [
        "#l.Дана стартовая матрица (обязательно запустите код ниже в вашем решении!).\n",
        "# Эта матрица будет использоваться в последующих задачах\n",
        "# это наша стартовая матрица\n",
        "\n",
        "mat =np.arange(1,26).reshape(5,5)\n",
        "print(mat)\n",
        "print('__________')\n",
        "#Необходимо написать код который вернет следующую матрицуиз стартовой:\n",
        "print(mat[2:,1:])\n"
      ],
      "metadata": {
        "colab": {
          "base_uri": "https://localhost:8080/"
        },
        "id": "TFBuGQiJOjuD",
        "outputId": "8a761215-dc0c-4dea-8f0a-06548dc042c0"
      },
      "execution_count": null,
      "outputs": [
        {
          "output_type": "stream",
          "name": "stdout",
          "text": [
            "[[ 1  2  3  4  5]\n",
            " [ 6  7  8  9 10]\n",
            " [11 12 13 14 15]\n",
            " [16 17 18 19 20]\n",
            " [21 22 23 24 25]]\n",
            "__________\n",
            "[[12 13 14 15]\n",
            " [17 18 19 20]\n",
            " [22 23 24 25]]\n"
          ]
        }
      ]
    },
    {
      "cell_type": "code",
      "source": [
        "#m. Написать код обращенияк элементу который вернет значение  20 \n",
        "#из стартовой матрицы задачи \n",
        "print(mat[3][4])"
      ],
      "metadata": {
        "colab": {
          "base_uri": "https://localhost:8080/"
        },
        "id": "F5G3oYXyOt3b",
        "outputId": "938462e4-693b-4d1e-a392-d1e1aeefec57"
      },
      "execution_count": null,
      "outputs": [
        {
          "output_type": "stream",
          "name": "stdout",
          "text": [
            "20\n"
          ]
        }
      ]
    },
    {
      "cell_type": "code",
      "source": [
        "#n. Написать код к стартовой матрице задачи l,\n",
        "# который воспроизводит вывод, показанный ниже\n",
        "n=mat[:3,1].reshape(3,1)\n",
        "print(n)"
      ],
      "metadata": {
        "colab": {
          "base_uri": "https://localhost:8080/"
        },
        "id": "Z55FXlfuO1M7",
        "outputId": "4c24d328-27d0-4cc1-faa1-53a0a69cf2b5"
      },
      "execution_count": null,
      "outputs": [
        {
          "output_type": "stream",
          "name": "stdout",
          "text": [
            "[[ 2]\n",
            " [ 7]\n",
            " [12]]\n"
          ]
        }
      ]
    },
    {
      "cell_type": "code",
      "source": [
        "#o. Написать код к стартовой матрице задачи l,\n",
        "# который воспроизводит вывод, показанный ниже\n",
        "print(mat[4:])"
      ],
      "metadata": {
        "colab": {
          "base_uri": "https://localhost:8080/"
        },
        "id": "RsMjQ5_cO7yF",
        "outputId": "eedc91de-0142-4b60-bb21-87fe7777ef48"
      },
      "execution_count": null,
      "outputs": [
        {
          "output_type": "stream",
          "name": "stdout",
          "text": [
            "[[21 22 23 24 25]]\n"
          ]
        }
      ]
    },
    {
      "cell_type": "code",
      "source": [
        "#p. Написать код к стартовой матрице задачи l,\n",
        "# который воспроизводит вывод, показанный ниже\n",
        "print(mat[3:])"
      ],
      "metadata": {
        "colab": {
          "base_uri": "https://localhost:8080/"
        },
        "id": "wKkUWeqfPAhN",
        "outputId": "ade1d4e6-a94d-4fec-a895-5beddafa3fe7"
      },
      "execution_count": null,
      "outputs": [
        {
          "output_type": "stream",
          "name": "stdout",
          "text": [
            "[[16 17 18 19 20]\n",
            " [21 22 23 24 25]]\n"
          ]
        }
      ]
    },
    {
      "cell_type": "code",
      "source": [
        "#q. Получить сумму всех значений в стартовой матрице mat\n",
        "print(mat.sum())"
      ],
      "metadata": {
        "colab": {
          "base_uri": "https://localhost:8080/"
        },
        "id": "osg3VPFgPEqQ",
        "outputId": "82d14f89-76e0-44ae-e026-18a60b8b8a16"
      },
      "execution_count": null,
      "outputs": [
        {
          "output_type": "stream",
          "name": "stdout",
          "text": [
            "325\n"
          ]
        }
      ]
    },
    {
      "cell_type": "code",
      "source": [
        "#r. Получить стандартное отклонение в стартовой матрице mat\n",
        "print(mat.mean())"
      ],
      "metadata": {
        "colab": {
          "base_uri": "https://localhost:8080/"
        },
        "id": "daaWdT4OPHmx",
        "outputId": "4b1282c3-edc4-46ac-e1d6-119b7b6959e2"
      },
      "execution_count": null,
      "outputs": [
        {
          "output_type": "stream",
          "name": "stdout",
          "text": [
            "13.0\n"
          ]
        }
      ]
    },
    {
      "cell_type": "code",
      "source": [
        "#s. Получить сумму значений в колонках в стартовой матрице mat\n",
        "print(mat.sum(axis=0))"
      ],
      "metadata": {
        "colab": {
          "base_uri": "https://localhost:8080/"
        },
        "id": "lxl8lvW_PLdy",
        "outputId": "f7080729-36c4-426a-b179-3cae7ad2afdc"
      },
      "execution_count": null,
      "outputs": [
        {
          "output_type": "stream",
          "name": "stdout",
          "text": [
            "[55 60 65 70 75]\n"
          ]
        }
      ]
    }
  ]
}